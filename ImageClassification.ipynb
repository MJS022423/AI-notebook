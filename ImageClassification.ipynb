{
  "cells": [
    {
      "cell_type": "code",
      "execution_count": 2,
      "metadata": {
        "id": "fkqa5qaZ0V5y"
      },
      "outputs": [],
      "source": [
        "import torch\n",
        "import torch.nn as nn\n",
        "from torch.nn import CrossEntropyLoss\n",
        "from torch.utils.data import Dataset, DataLoader\n",
        "from torch.utils.data import random_split\n",
        "from torch.optim import SGD\n",
        "from torch.optim.lr_scheduler import ReduceLROnPlateau\n",
        "import os\n",
        "import random\n",
        "from torchmetrics import Accuracy\n",
        "from torchinfo import summary\n",
        "import PIL\n",
        "from PIL import Image\n",
        "import numpy as np\n",
        "import pathlib as path\n",
        "import copy\n",
        "import tqdm\n",
        "from tqdm import tqdm\n",
        "from torchvision import transforms\n",
        "from torchvision.models import resnet50\n",
        "import matplotlib.pyplot as plt\n",
        "from matplotlib.pyplot import plot, imshow"
      ]
    },
    {
      "cell_type": "code",
      "execution_count": 3,
      "metadata": {
        "id": "rhRTHeasdpYF"
      },
      "outputs": [],
      "source": [
        "class Earlystopper:\n",
        "  def __init__(self, patience = 1, min_delta = 0.0):\n",
        "\n",
        "    self.patience = patience\n",
        "    self.min_delta = min_delta\n",
        "    self.counter = 0\n",
        "    self.best_validation_loss = None\n",
        "    self.best_model_state = None\n",
        "\n",
        "  def earlystop(self, validation_loss, model):\n",
        "    if self.best_validation_loss is None:\n",
        "      self.best_validation_loss = validation_loss\n",
        "      self.best_model_state = copy.deepcopy(model.state_dict())\n",
        "      \n",
        "\n",
        "    elif validation_loss < self.best_validation_loss - self.min_delta:\n",
        "      \n",
        "      self.best_validation_loss = validation_loss\n",
        "      self.counter = 0\n",
        "      self.best_model_state = copy.deepcopy(model.state_dict())\n",
        "    \n",
        "    else:\n",
        "      self.counter += 1\n",
        "      \n",
        "      print(f\"EarlyStop: {self.counter} / {self.patience}\")\n",
        "      if self.counter >= self.patience:\n",
        "        return True\n",
        "      \n",
        "      \n",
        "\n",
        "  def restore_best_weight(self, model):\n",
        "    if self.best_model_state is not None:\n",
        "      model.load_state_dict(self.best_model_state)\n",
        "      print(f\"Restored Best Model\")\n"
      ]
    },
    {
      "cell_type": "code",
      "execution_count": 4,
      "metadata": {
        "id": "2RwpkX280oTm"
      },
      "outputs": [],
      "source": [
        "class Dogs_vs_Cats_model(nn.Module):\n",
        "  def __init__(self):\n",
        "    super(Dogs_vs_Cats_model, self).__init__()\n",
        "\n",
        "    model = resnet50(pretrained = True)\n",
        "    \n",
        "    for params in model.parameters():\n",
        "      params.requires_grad = False\n",
        "    \n",
        "    self.feature = nn.Sequential(*list(model.children())[:-1])\n",
        "    \n",
        "    self.classifier = nn.Sequential(\n",
        "      nn.Dropout(0.20, inplace= True),\n",
        "      nn.Linear(2048, 2),\n",
        "    )\n",
        "    \n",
        "  def forward(self, x: torch.Tensor) -> torch.Tensor:\n",
        "\n",
        "    x = self.feature(x)\n",
        "    x = x.view(x.size(0),-1)\n",
        "    x = self.classifier(x)\n",
        "\n",
        "    return x"
      ]
    },
    {
      "cell_type": "code",
      "execution_count": null,
      "metadata": {
        "id": "NsSwx9bQ4kNw"
      },
      "outputs": [],
      "source": [
        "model = Dogs_vs_Cats_model()"
      ]
    },
    {
      "cell_type": "code",
      "execution_count": 6,
      "metadata": {
        "colab": {
          "base_uri": "https://localhost:8080/"
        },
        "id": "pgRW_8fka3ub",
        "outputId": "d26fae86-3120-4f62-e925-38e547db2977"
      },
      "outputs": [
        {
          "data": {
            "text/plain": [
              "tensor([[-0.1348, -0.1181]], grad_fn=<AddmmBackward0>)"
            ]
          },
          "execution_count": 6,
          "metadata": {},
          "output_type": "execute_result"
        }
      ],
      "source": [
        "data = torch.rand(1, 3, 224, 224)\n",
        "output = model(data)\n",
        "output"
      ]
    },
    {
      "cell_type": "code",
      "execution_count": null,
      "metadata": {
        "colab": {
          "base_uri": "https://localhost:8080/"
        },
        "id": "B8JYwBkKjY72",
        "outputId": "ae9932e6-975a-41cd-fe0d-d1540d3ca5aa"
      },
      "outputs": [
        {
          "data": {
            "text/plain": [
              "===============================================================================================\n",
              "Layer (type:depth-idx)                        Output Shape              Param #\n",
              "===============================================================================================\n",
              "Dogs_vs_Cats_model                            [1, 2]                    --\n",
              "├─Sequential: 1-1                             [1, 2048, 1, 1]           --\n",
              "│    └─Conv2d: 2-1                            [1, 64, 32, 32]           (9,408)\n",
              "│    └─BatchNorm2d: 2-2                       [1, 64, 32, 32]           (128)\n",
              "│    └─ReLU: 2-3                              [1, 64, 32, 32]           --\n",
              "│    └─MaxPool2d: 2-4                         [1, 64, 16, 16]           --\n",
              "│    └─Sequential: 2-5                        [1, 256, 16, 16]          --\n",
              "│    │    └─Bottleneck: 3-1                   [1, 256, 16, 16]          (75,008)\n",
              "│    │    └─Bottleneck: 3-2                   [1, 256, 16, 16]          (70,400)\n",
              "│    │    └─Bottleneck: 3-3                   [1, 256, 16, 16]          (70,400)\n",
              "│    └─Sequential: 2-6                        [1, 512, 8, 8]            --\n",
              "│    │    └─Bottleneck: 3-4                   [1, 512, 8, 8]            (379,392)\n",
              "│    │    └─Bottleneck: 3-5                   [1, 512, 8, 8]            (280,064)\n",
              "│    │    └─Bottleneck: 3-6                   [1, 512, 8, 8]            (280,064)\n",
              "│    │    └─Bottleneck: 3-7                   [1, 512, 8, 8]            (280,064)\n",
              "│    └─Sequential: 2-7                        [1, 1024, 4, 4]           --\n",
              "│    │    └─Bottleneck: 3-8                   [1, 1024, 4, 4]           (1,512,448)\n",
              "│    │    └─Bottleneck: 3-9                   [1, 1024, 4, 4]           (1,117,184)\n",
              "│    │    └─Bottleneck: 3-10                  [1, 1024, 4, 4]           (1,117,184)\n",
              "│    │    └─Bottleneck: 3-11                  [1, 1024, 4, 4]           (1,117,184)\n",
              "│    │    └─Bottleneck: 3-12                  [1, 1024, 4, 4]           (1,117,184)\n",
              "│    │    └─Bottleneck: 3-13                  [1, 1024, 4, 4]           (1,117,184)\n",
              "│    └─Sequential: 2-8                        [1, 2048, 2, 2]           --\n",
              "│    │    └─Bottleneck: 3-14                  [1, 2048, 2, 2]           (6,039,552)\n",
              "│    │    └─Bottleneck: 3-15                  [1, 2048, 2, 2]           (4,462,592)\n",
              "│    │    └─Bottleneck: 3-16                  [1, 2048, 2, 2]           (4,462,592)\n",
              "│    └─AdaptiveAvgPool2d: 2-9                 [1, 2048, 1, 1]           --\n",
              "├─Sequential: 1-2                             [1, 2]                    --\n",
              "│    └─Dropout: 2-10                          [1, 2048]                 --\n",
              "│    └─Linear: 2-11                           [1, 2]                    4,098\n",
              "===============================================================================================\n",
              "Total params: 23,512,130\n",
              "Trainable params: 4,098\n",
              "Non-trainable params: 23,508,032\n",
              "Total mult-adds (Units.MEGABYTES): 333.70\n",
              "===============================================================================================\n",
              "Input size (MB): 0.05\n",
              "Forward/backward pass size (MB): 14.52\n",
              "Params size (MB): 94.05\n",
              "Estimated Total Size (MB): 108.61\n",
              "==============================================================================================="
            ]
          },
          "execution_count": 6,
          "metadata": {},
          "output_type": "execute_result"
        }
      ],
      "source": [
        "summary(model, input_size = (1, 3, 224, 224))"
      ]
    },
    {
      "cell_type": "code",
      "execution_count": 11,
      "metadata": {
        "id": "BtlVLJStQX39"
      },
      "outputs": [],
      "source": [
        "class dataset(Dataset):\n",
        "    def __init__(self, image_dir, transform=None):\n",
        "        self.image_dir = image_dir\n",
        "        self.class_names = ['Cat', 'Dog']\n",
        "        self.transform = transform\n",
        "\n",
        "        self.image_paths = []\n",
        "        self.labels = []\n",
        "\n",
        "        for label, class_name in enumerate(self.class_names):\n",
        "            class_dir = os.path.join(image_dir, class_name)\n",
        "            image_files = [f for f in os.listdir(class_dir) if f.lower().endswith('.jpg')]\n",
        "            for image_file in image_files:\n",
        "                self.image_paths.append(os.path.join(class_dir, image_file))\n",
        "                self.labels.append(label)\n",
        "\n",
        "    def __len__(self):\n",
        "        return len(self.image_paths)\n",
        "\n",
        "    def __getitem__(self, idx):\n",
        "        image_path = self.image_paths[idx]\n",
        "        label_idx = self.labels[idx]\n",
        "\n",
        "        try:\n",
        "          image = Image.open(image_path).convert('RGB')\n",
        "        except Exception:\n",
        "          print(f\"skipping...\")\n",
        "\n",
        "        if self.transform:\n",
        "            image = self.transform(image)\n",
        "        else:\n",
        "            transform = transforms.Compose([\n",
        "                transforms.Resize((64, 64)),\n",
        "                transforms.ToTensor()\n",
        "            ])\n",
        "            image = transform(image)\n",
        "\n",
        "        return image, label_idx"
      ]
    },
    {
      "cell_type": "code",
      "execution_count": null,
      "metadata": {
        "id": "UvqNBeu0YuWF"
      },
      "outputs": [],
      "source": [
        "image_dir = \"DatastPath\"\n",
        "\n",
        "transform = transforms.Compose([\n",
        "  transforms.RandomHorizontalFlip(0.3),\n",
        "  transforms.RandomResizedCrop(size= (224, 224), antialias= True),\n",
        "  transforms.Resize((224,224)),\n",
        "  transforms.ToTensor(),\n",
        "  transforms.Normalize(mean= [0.485, 0.456, 0.406], std= [0.229, 0.224, 0.225]),\n",
        "])\n",
        "loaded_dataset = dataset(image_dir, transform)"
      ]
    },
    {
      "cell_type": "code",
      "execution_count": null,
      "metadata": {
        "colab": {
          "base_uri": "https://localhost:8080/"
        },
        "id": "bDEgpXfQ48b7",
        "outputId": "ad90771a-81cd-4f39-8f63-009eb81742ac"
      },
      "outputs": [
        {
          "name": "stdout",
          "output_type": "stream",
          "text": [
            "24998\n"
          ]
        }
      ],
      "source": [
        "print(len(loaded_dataset))"
      ]
    },
    {
      "cell_type": "code",
      "execution_count": 16,
      "metadata": {
        "id": "XsnygLH_E5up"
      },
      "outputs": [],
      "source": [
        "train_size = int(0.6 * len(loaded_dataset))\n",
        "test_size = len(loaded_dataset) - train_size\n",
        "\n",
        "generator = torch.Generator()\n",
        "\n",
        "train_data, test_data = random_split(loaded_dataset, [train_size, test_size], generator)"
      ]
    },
    {
      "cell_type": "code",
      "execution_count": 17,
      "metadata": {
        "colab": {
          "base_uri": "https://localhost:8080/"
        },
        "id": "x2Y-nMAVNE2Q",
        "outputId": "1ff2ccdc-2ea9-4c45-b61c-d9903c554778"
      },
      "outputs": [
        {
          "name": "stdout",
          "output_type": "stream",
          "text": [
            "train data: 14998\n",
            "test data: 10000\n"
          ]
        }
      ],
      "source": [
        "print(f\"train data: {len(train_data)}\")\n",
        "print(f\"test data: {len(test_data)}\")"
      ]
    },
    {
      "cell_type": "code",
      "execution_count": 18,
      "metadata": {
        "id": "GMBAfBISnOti"
      },
      "outputs": [],
      "source": [
        "train_loader = DataLoader(dataset = train_data, batch_size = 32, shuffle= True)\n",
        "test_loader = DataLoader(dataset = test_data, batch_size = 32, shuffle = True)"
      ]
    },
    {
      "cell_type": "code",
      "execution_count": 14,
      "metadata": {
        "id": "MvI3P5-j6-yO"
      },
      "outputs": [],
      "source": [
        "device = 'cuda' if torch.cuda.is_available() else 'cpu'\n",
        "\n",
        "epochs = 25\n",
        "model = Dogs_vs_Cats_model().to(device)\n",
        "criterion = CrossEntropyLoss()\n",
        "accuracy_fn = Accuracy(task='multiclass', num_classes= 2).to(device)\n",
        "optimizer = SGD(model.parameters(), lr= 0.002)\n",
        "scheduler = ReduceLROnPlateau(optimizer= optimizer, mode='min',factor= 0.2, patience= 10, min_lr= 1e-06)\n",
        "earlystopping = Earlystopper(patience=5, min_delta = 0.03)"
      ]
    },
    {
      "cell_type": "code",
      "execution_count": null,
      "metadata": {
        "colab": {
          "base_uri": "https://localhost:8080/"
        },
        "id": "LMCyGDamDxYL",
        "outputId": "36d51b1a-6739-40ab-fcaf-03c690f81ebd"
      },
      "outputs": [
        {
          "name": "stderr",
          "output_type": "stream",
          "text": [
            "Epoch: 1/25 - testing:  65%|██████▌   | 204/313 [08:49<04:43,  2.60s/it] c:\\Users\\Porsha Silaroy\\Documents\\Marvert\\python\\.venv\\Lib\\site-packages\\PIL\\TiffImagePlugin.py:900: UserWarning: Truncated File Read\n",
            "  warnings.warn(str(msg))\n",
            "                                                                        \r"
          ]
        },
        {
          "name": "stdout",
          "output_type": "stream",
          "text": [
            "Epoch: 1\t|Train Acc: 0.92%\t|Train Loss: 0.26%\t|Val Acc: 0.95%\t|Val Loss: 0.15%\n"
          ]
        },
        {
          "name": "stderr",
          "output_type": "stream",
          "text": [
            "                                                                         \r"
          ]
        },
        {
          "name": "stdout",
          "output_type": "stream",
          "text": [
            "EarlyStop: 1 / 5\n",
            "Epoch: 2\t|Train Acc: 0.94%\t|Train Loss: 0.16%\t|Val Acc: 0.96%\t|Val Loss: 0.13%\n"
          ]
        },
        {
          "name": "stderr",
          "output_type": "stream",
          "text": [
            "                                                                         \r"
          ]
        },
        {
          "name": "stdout",
          "output_type": "stream",
          "text": [
            "Epoch: 3\t|Train Acc: 0.94%\t|Train Loss: 0.15%\t|Val Acc: 0.96%\t|Val Loss: 0.12%\n"
          ]
        },
        {
          "name": "stderr",
          "output_type": "stream",
          "text": [
            "                                                                         \r"
          ]
        },
        {
          "name": "stdout",
          "output_type": "stream",
          "text": [
            "EarlyStop: 1 / 5\n",
            "Epoch: 4\t|Train Acc: 0.95%\t|Train Loss: 0.14%\t|Val Acc: 0.96%\t|Val Loss: 0.12%\n"
          ]
        },
        {
          "name": "stderr",
          "output_type": "stream",
          "text": [
            "                                                                         \r"
          ]
        },
        {
          "name": "stdout",
          "output_type": "stream",
          "text": [
            "EarlyStop: 2 / 5\n",
            "Epoch: 5\t|Train Acc: 0.95%\t|Train Loss: 0.13%\t|Val Acc: 0.96%\t|Val Loss: 0.11%\n"
          ]
        },
        {
          "name": "stderr",
          "output_type": "stream",
          "text": [
            "                                                                         \r"
          ]
        },
        {
          "name": "stdout",
          "output_type": "stream",
          "text": [
            "EarlyStop: 3 / 5\n",
            "Epoch: 6\t|Train Acc: 0.95%\t|Train Loss: 0.13%\t|Val Acc: 0.96%\t|Val Loss: 0.11%\n"
          ]
        },
        {
          "name": "stderr",
          "output_type": "stream",
          "text": [
            "                                                                         \r"
          ]
        },
        {
          "name": "stdout",
          "output_type": "stream",
          "text": [
            "EarlyStop: 4 / 5\n",
            "Epoch: 7\t|Train Acc: 0.95%\t|Train Loss: 0.13%\t|Val Acc: 0.96%\t|Val Loss: 0.10%\n"
          ]
        },
        {
          "name": "stderr",
          "output_type": "stream",
          "text": [
            "                                                                         "
          ]
        },
        {
          "name": "stdout",
          "output_type": "stream",
          "text": [
            "EarlyStop: 5 / 5\n",
            "Restored Best Model\n",
            "EarlyStopping at Epoch: 8\n"
          ]
        },
        {
          "name": "stderr",
          "output_type": "stream",
          "text": [
            "\r"
          ]
        }
      ],
      "source": [
        "stat_loss = []\n",
        "test_stat_loss = []\n",
        "\n",
        "stat_acc = []\n",
        "test_stat_acc = []\n",
        "\n",
        "for epoch in range(epochs):\n",
        "  model.train()\n",
        "  running_loss = 0\n",
        "  running_acc = 0\n",
        "\n",
        "  train_progress_bar = tqdm(train_loader, total=len(train_loader), desc=f\"Epoch: {epoch + 1}/{epochs} - Training\",leave= False)\n",
        "\n",
        "  for x_train, y_train in train_progress_bar:\n",
        "    x_train = x_train.to(device)\n",
        "    y_train = y_train.to(device)\n",
        "\n",
        "    y_logits = model(x_train)\n",
        "    y_pred = torch.softmax(y_logits, dim=1).argmax(dim=1)\n",
        "\n",
        "    loss = criterion(y_logits, y_train)\n",
        "    acc = accuracy_fn(y_pred, y_train)\n",
        "\n",
        "    running_loss += loss.item()\n",
        "    running_acc += acc.item()\n",
        "\n",
        "    optimizer.zero_grad()\n",
        "    loss.backward()\n",
        "    optimizer.step()\n",
        "    \n",
        "  Train_loss = running_loss / len(train_loader)\n",
        "  Train_acc = running_acc / len(train_loader)\n",
        "\n",
        "  model.eval()\n",
        "  test_running_loss = 0\n",
        "  test_running_acc = 0\n",
        "\n",
        "  test_progress_bar = tqdm(test_loader, total=len(test_loader), desc=f\"Epoch: {epoch + 1}/{epochs} - testing\",leave= False)\n",
        "\n",
        "  with torch.inference_mode():\n",
        "    for x_test, y_test in test_progress_bar:\n",
        "\n",
        "      x_test = x_test.to(device)\n",
        "      y_test = y_test.to(device)\n",
        "\n",
        "      test_y_logits = model(x_test)\n",
        "\n",
        "      test_y_pred = torch.softmax(test_y_logits, dim=1).argmax(dim=1)\n",
        "\n",
        "      test_loss= criterion(test_y_logits, y_test)\n",
        "      test_acc = accuracy_fn(test_y_pred, y_test)\n",
        "\n",
        "      test_running_loss += test_loss.item()\n",
        "      test_running_acc += test_acc.item()\n",
        "\n",
        "  Test_loss = test_running_loss / len(test_loader)\n",
        "  Test_acc = test_running_acc / len(test_loader)\n",
        "  \n",
        "  stat_loss.append(Train_loss)\n",
        "  stat_acc.append(Train_acc)\n",
        "  test_stat_loss.append(Test_loss)\n",
        "  test_stat_acc.append(Test_acc)\n",
        "\n",
        "  scheduler.step(Test_loss)\n",
        "\n",
        "  if earlystopping.earlystop(Test_loss, model):\n",
        "    earlystopping.restore_best_weight(model)\n",
        "    print(f\"EarlyStopping at Epoch: {epoch + 1}\")\n",
        "    break\n",
        "\n",
        "  print(f\"Epoch: {epoch+1}\\t|Train Acc: {Train_acc:.02f}%\\t|Train Loss: {Train_loss:.02f}%\\t|Val Acc: {Test_acc:.02f}%\\t|Val Loss: {Test_loss:.02f}%\")"
      ]
    },
    {
      "cell_type": "code",
      "execution_count": null,
      "metadata": {
        "id": "wMtBD046iAs_"
      },
      "outputs": [],
      "source": [
        "def visualize_training_result(result):\n",
        "\n",
        "  plt.figure(figsize= (9,9))\n",
        "  \n",
        "  for i in range(4):\n",
        "    plt.subplot(2, 2, i + 1)\n",
        "    plt.xlabel(\"Epoch\")\n",
        "    if i % 2 == 0:\n",
        "      plt.ylabel(\"Loss\")\n",
        "    else:\n",
        "      plt.ylabel(\"Accuracy\")\n",
        "    \n",
        "    \n",
        "    plt.plot(result[i])\n",
        "    \n",
        "  \n",
        "  plt.tight_layout()\n",
        "  plt.show"
      ]
    },
    {
      "cell_type": "code",
      "execution_count": null,
      "metadata": {},
      "outputs": [
        {
          "data": {
            "image/png": "[encoded data removed]",
            "text/plain": [
              "<Figure size 900x900 with 4 Axes>"
            ]
          },
          "metadata": {},
          "output_type": "display_data"
        }
      ],
      "source": [
        "visualize_training_result([stat_loss, stat_acc, test_stat_loss, test_stat_acc])"
      ]
    },
    {
      "cell_type": "code",
      "execution_count": null,
      "metadata": {
        "id": "lI0Qs4htUSHO"
      },
      "outputs": [],
      "source": [
        "def save_model():\n",
        "\n",
        "  model_path = \"Save_path\"\n",
        "  model_name = \"Dog_and_Cat_model.h5\"\n",
        "  model_save_path = os.path.join(model_path, model_name)\n",
        "\n",
        "  torch.save(model.state_dict(), model_save_path)\n",
        "\n",
        "\n",
        "save_model()"
      ]
    },
    {
      "cell_type": "code",
      "execution_count": null,
      "metadata": {},
      "outputs": [],
      "source": [
        "def load_model(model_path, model):\n",
        "  weight = torch.load(model_path)\n",
        "  model.load_state_dict(weight)\n",
        "\n",
        "model_path = \"Model_path/Dog_and_Cat_model.pth\"\n",
        "model = load_model(model_path, model)"
      ]
    },
    {
      "cell_type": "code",
      "execution_count": 25,
      "metadata": {
        "id": "_dwt21ZeDpz-"
      },
      "outputs": [],
      "source": [
        "def load_image(path):\n",
        "\n",
        "  image_path = []\n",
        "  class_names = ['Cat', 'Dog']\n",
        "  for class_name in class_names:\n",
        "    image_dir = os.path.join(path, class_name)\n",
        "    image_dir_file = [files for files in os.listdir(image_dir) if  files.lower().endswith('jpg')]\n",
        "\n",
        "    for image in image_dir_file:\n",
        "      image_full_path = os.path.join(image_dir, image)\n",
        "      image_path.append(image_full_path)\n",
        "\n",
        "  return image_path\n"
      ]
    },
    {
      "cell_type": "code",
      "execution_count": 26,
      "metadata": {
        "id": "Xt10m9Q72Rv9"
      },
      "outputs": [],
      "source": [
        "def evaluate_model(path, model, num_images=9):\n",
        "    plt.figure(figsize=(9, 9))\n",
        "\n",
        "    all_image_path = load_image(path)\n",
        "\n",
        "    for i in range(num_images):\n",
        "        idx = random.randint(0, len(all_image_path) - 1)\n",
        "        image_path = all_image_path[idx]\n",
        "        image = Image.open(image_path).convert('RGB')\n",
        "        image_data = image\n",
        "        class_names = ['Cat','Dog']\n",
        "\n",
        "        transform = transforms.Compose([\n",
        "            transforms.Resize((224, 224)),\n",
        "            transforms.ToTensor()\n",
        "        ])\n",
        "\n",
        "        image_data = transform(image_data).unsqueeze(dim=0).to(device)\n",
        "\n",
        "        model.eval()\n",
        "        with torch.inference_mode():\n",
        "          prediction = model(image_data)\n",
        "          predicted_class = class_names[prediction.argmax(dim = 1)]\n",
        "\n",
        "        \n",
        "        plt.subplot(3, 3, i + 1)\n",
        "        plt.imshow(np.asarray(image))\n",
        "        \n",
        "        if predicted_class == os.path.basename(os.path.dirname(image_path)):\n",
        "            plt.title(predicted_class, color= \"Black\")\n",
        "        else:\n",
        "            plt.title(predicted_class, color= \"Red\")\n",
        "        plt.axis('off')\n",
        "\n",
        "    plt.tight_layout()\n",
        "    plt.show()"
      ]
    },
    {
      "cell_type": "code",
      "execution_count": null,
      "metadata": {},
      "outputs": [],
      "source": [
        "evaluate_model(image_dir, model)"
      ]
    }
  ],
  "metadata": {
    "accelerator": "GPU",
    "colab": {
      "gpuType": "T4",
      "provenance": []
    },
    "kernelspec": {
      "display_name": ".venv",
      "language": "python",
      "name": "python3"
    },
    "language_info": {
      "codemirror_mode": {
        "name": "ipython",
        "version": 3
      },
      "file_extension": ".py",
      "mimetype": "text/x-python",
      "name": "python",
      "nbconvert_exporter": "python",
      "pygments_lexer": "ipython3",
      "version": "3.12.5"
    }
  },
  "nbformat": 4,
  "nbformat_minor": 0
}
